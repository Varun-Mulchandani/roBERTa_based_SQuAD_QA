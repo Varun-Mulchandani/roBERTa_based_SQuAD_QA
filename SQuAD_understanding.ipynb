{
  "nbformat": 4,
  "nbformat_minor": 0,
  "metadata": {
    "colab": {
      "name": "SQuAD_understanding.ipynb",
      "provenance": [],
      "collapsed_sections": [],
      "authorship_tag": "ABX9TyPg0HyeTlQHwNQnGVqdoHtc",
      "include_colab_link": true
    },
    "kernelspec": {
      "name": "python3",
      "display_name": "Python 3"
    }
  },
  "cells": [
    {
      "cell_type": "markdown",
      "metadata": {
        "id": "view-in-github",
        "colab_type": "text"
      },
      "source": [
        "<a href=\"https://colab.research.google.com/github/Varun-Mulchandani/roBERTa_based_SQuAD_QA/blob/master/SQuAD_understanding.ipynb\" target=\"_parent\"><img src=\"https://colab.research.google.com/assets/colab-badge.svg\" alt=\"Open In Colab\"/></a>"
      ]
    },
    {
      "cell_type": "markdown",
      "metadata": {
        "id": "kDmj0-nGlur7",
        "colab_type": "text"
      },
      "source": [
        "Understanding the SQuAD dataset for Question and Answering:"
      ]
    },
    {
      "cell_type": "code",
      "metadata": {
        "id": "TAfAW-XimwN8",
        "colab_type": "code",
        "colab": {}
      },
      "source": [
        "import json\n",
        "import pandas as pd"
      ],
      "execution_count": 0,
      "outputs": []
    },
    {
      "cell_type": "markdown",
      "metadata": {
        "id": "UWJbrpTGMCbi",
        "colab_type": "text"
      },
      "source": [
        "The SQuAD dataset is in a json file:"
      ]
    },
    {
      "cell_type": "code",
      "metadata": {
        "id": "pcFVwG84lork",
        "colab_type": "code",
        "colab": {}
      },
      "source": [
        "f = open('train-v2.0.json')"
      ],
      "execution_count": 0,
      "outputs": []
    },
    {
      "cell_type": "code",
      "metadata": {
        "id": "UqZU9Af1mL4J",
        "colab_type": "code",
        "colab": {}
      },
      "source": [
        "data = json.load(f)"
      ],
      "execution_count": 0,
      "outputs": []
    },
    {
      "cell_type": "markdown",
      "metadata": {
        "id": "9fT0VnpQMMrZ",
        "colab_type": "text"
      },
      "source": [
        "Creating lists which we will add to out dataset:"
      ]
    },
    {
      "cell_type": "code",
      "metadata": {
        "id": "m3VDyCP0sL2u",
        "colab_type": "code",
        "colab": {}
      },
      "source": [
        "titles = []\n",
        "contexts = []\n",
        "questions = []\n",
        "ids =[]\n",
        "answers = []\n",
        "answer_start = []\n",
        "is_impossible = []\n",
        "for i in data['data']:\n",
        "  title = i['title']\n",
        "  for j in i['paragraphs']:\n",
        "    context = j['context']\n",
        "    for k in j['qas']:\n",
        "      question = k['question']\n",
        "      id_ = k['id']\n",
        "      is_impossible_ = k['is_impossible']\n",
        "      for l in k['answers']:\n",
        "        titles.append(title)\n",
        "        contexts.append(context)\n",
        "        questions.append(question)\n",
        "        ids.append(id_)\n",
        "        answers.append(l['text'])\n",
        "        answer_start.append(l['answer_start'])\n",
        "        is_impossible.append(is_impossible_)"
      ],
      "execution_count": 0,
      "outputs": []
    },
    {
      "cell_type": "markdown",
      "metadata": {
        "id": "dvZ7o5N2MlqJ",
        "colab_type": "text"
      },
      "source": [
        "Considering the importance of the 'is_impossible' attribute:"
      ]
    },
    {
      "cell_type": "code",
      "metadata": {
        "id": "dogfH956I_YT",
        "colab_type": "code",
        "colab": {}
      },
      "source": [
        "for i in is_impossible:\n",
        "  if i == 'True':\n",
        "    print('h')"
      ],
      "execution_count": 0,
      "outputs": []
    },
    {
      "cell_type": "markdown",
      "metadata": {
        "id": "88nVgk34MxxG",
        "colab_type": "text"
      },
      "source": [
        "Since all the values in the attribute are Boolean 'False', I have decided to disregard it"
      ]
    },
    {
      "cell_type": "code",
      "metadata": {
        "id": "NnXQ_P-LHYcO",
        "colab_type": "code",
        "colab": {}
      },
      "source": [
        "train = pd.DataFrame({'title':titles, 'question':questions, 'id':ids, 'answers':answers, 'answer_start':answer_start ,'context':contexts})"
      ],
      "execution_count": 0,
      "outputs": []
    },
    {
      "cell_type": "code",
      "metadata": {
        "id": "GoY2Pcc1IRIA",
        "colab_type": "code",
        "outputId": "2546ab29-af69-4620-f9a1-db49531d7b0b",
        "colab": {
          "base_uri": "https://localhost:8080/",
          "height": 289
        }
      },
      "source": [
        "train.head()"
      ],
      "execution_count": 0,
      "outputs": [
        {
          "output_type": "execute_result",
          "data": {
            "text/html": [
              "<div>\n",
              "<style scoped>\n",
              "    .dataframe tbody tr th:only-of-type {\n",
              "        vertical-align: middle;\n",
              "    }\n",
              "\n",
              "    .dataframe tbody tr th {\n",
              "        vertical-align: top;\n",
              "    }\n",
              "\n",
              "    .dataframe thead th {\n",
              "        text-align: right;\n",
              "    }\n",
              "</style>\n",
              "<table border=\"1\" class=\"dataframe\">\n",
              "  <thead>\n",
              "    <tr style=\"text-align: right;\">\n",
              "      <th></th>\n",
              "      <th>title</th>\n",
              "      <th>question</th>\n",
              "      <th>id</th>\n",
              "      <th>answers</th>\n",
              "      <th>answer_start</th>\n",
              "      <th>context</th>\n",
              "    </tr>\n",
              "  </thead>\n",
              "  <tbody>\n",
              "    <tr>\n",
              "      <th>0</th>\n",
              "      <td>Beyoncé</td>\n",
              "      <td>When did Beyonce start becoming popular?</td>\n",
              "      <td>56be85543aeaaa14008c9063</td>\n",
              "      <td>in the late 1990s</td>\n",
              "      <td>269</td>\n",
              "      <td>Beyoncé Giselle Knowles-Carter (/biːˈjɒnseɪ/ b...</td>\n",
              "    </tr>\n",
              "    <tr>\n",
              "      <th>1</th>\n",
              "      <td>Beyoncé</td>\n",
              "      <td>What areas did Beyonce compete in when she was...</td>\n",
              "      <td>56be85543aeaaa14008c9065</td>\n",
              "      <td>singing and dancing</td>\n",
              "      <td>207</td>\n",
              "      <td>Beyoncé Giselle Knowles-Carter (/biːˈjɒnseɪ/ b...</td>\n",
              "    </tr>\n",
              "    <tr>\n",
              "      <th>2</th>\n",
              "      <td>Beyoncé</td>\n",
              "      <td>When did Beyonce leave Destiny's Child and bec...</td>\n",
              "      <td>56be85543aeaaa14008c9066</td>\n",
              "      <td>2003</td>\n",
              "      <td>526</td>\n",
              "      <td>Beyoncé Giselle Knowles-Carter (/biːˈjɒnseɪ/ b...</td>\n",
              "    </tr>\n",
              "    <tr>\n",
              "      <th>3</th>\n",
              "      <td>Beyoncé</td>\n",
              "      <td>In what city and state did Beyonce  grow up?</td>\n",
              "      <td>56bf6b0f3aeaaa14008c9601</td>\n",
              "      <td>Houston, Texas</td>\n",
              "      <td>166</td>\n",
              "      <td>Beyoncé Giselle Knowles-Carter (/biːˈjɒnseɪ/ b...</td>\n",
              "    </tr>\n",
              "    <tr>\n",
              "      <th>4</th>\n",
              "      <td>Beyoncé</td>\n",
              "      <td>In which decade did Beyonce become famous?</td>\n",
              "      <td>56bf6b0f3aeaaa14008c9602</td>\n",
              "      <td>late 1990s</td>\n",
              "      <td>276</td>\n",
              "      <td>Beyoncé Giselle Knowles-Carter (/biːˈjɒnseɪ/ b...</td>\n",
              "    </tr>\n",
              "  </tbody>\n",
              "</table>\n",
              "</div>"
            ],
            "text/plain": [
              "     title  ...                                            context\n",
              "0  Beyoncé  ...  Beyoncé Giselle Knowles-Carter (/biːˈjɒnseɪ/ b...\n",
              "1  Beyoncé  ...  Beyoncé Giselle Knowles-Carter (/biːˈjɒnseɪ/ b...\n",
              "2  Beyoncé  ...  Beyoncé Giselle Knowles-Carter (/biːˈjɒnseɪ/ b...\n",
              "3  Beyoncé  ...  Beyoncé Giselle Knowles-Carter (/biːˈjɒnseɪ/ b...\n",
              "4  Beyoncé  ...  Beyoncé Giselle Knowles-Carter (/biːˈjɒnseɪ/ b...\n",
              "\n",
              "[5 rows x 6 columns]"
            ]
          },
          "metadata": {
            "tags": []
          },
          "execution_count": 15
        }
      ]
    },
    {
      "cell_type": "code",
      "metadata": {
        "id": "3Y63-CcAIS3r",
        "colab_type": "code",
        "colab": {}
      },
      "source": [
        "train.to_csv('train.csv')"
      ],
      "execution_count": 0,
      "outputs": []
    }
  ]
}